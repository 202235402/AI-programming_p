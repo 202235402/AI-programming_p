{
 "cells": [
  {
   "cell_type": "code",
   "execution_count": 1,
   "id": "de2fbc11",
   "metadata": {},
   "outputs": [],
   "source": [
    "import warnings\n",
    "\n",
    "warnings.filterwarnings('ignore')"
   ]
  },
  {
   "cell_type": "code",
   "execution_count": 2,
   "id": "476ecfef",
   "metadata": {},
   "outputs": [
    {
     "data": {
      "text/plain": [
       "<matplotlib.image.AxesImage at 0x17b82c0d4c0>"
      ]
     },
     "execution_count": 2,
     "metadata": {},
     "output_type": "execute_result"
    },
    {
     "data": {
      "image/png": "[encoded data removed]",
      "text/plain": [
       "<Figure size 640x480 with 1 Axes>"
      ]
     },
     "metadata": {},
     "output_type": "display_data"
    }
   ],
   "source": [
    "import matplotlib.pyplot as plt\n",
    "import numpy as np\n",
    "from sklearn import datasets, metrics\n",
    "from sklearn.model_selection import train_test_split\n",
    "\n",
    "\n",
    "digits = datasets.load_digits()\n",
    "plt.imshow(digits.images[0], cmap=plt.cm.gray_r, interpolation='nearest')"
   ]
  },
  {
   "cell_type": "code",
   "execution_count": 3,
   "id": "72d3f52d",
   "metadata": {},
   "outputs": [],
   "source": [
    "n_samples = len(digits.images)\n",
    "\n",
    "data = digits.images.reshape((n_samples, -1))"
   ]
  },
  {
   "cell_type": "code",
   "execution_count": 4,
   "id": "eb272883",
   "metadata": {},
   "outputs": [],
   "source": [
    "X_train, X_test, y_train, y_test = train_test_split(data, digits.target, test_size=0.2)"
   ]
  },
  {
   "cell_type": "code",
   "execution_count": 5,
   "id": "7b46d77c",
   "metadata": {},
   "outputs": [
    {
     "name": "stdout",
     "output_type": "stream",
     "text": [
      "(1437, 64)\n"
     ]
    }
   ],
   "source": [
    "print(X_train.shape)"
   ]
  },
  {
   "cell_type": "code",
   "execution_count": 6,
   "id": "087d76f4",
   "metadata": {},
   "outputs": [],
   "source": [
    "from keras import models\n",
    "from keras import layers\n",
    "from keras.optimizers import Adam\n",
    "\n",
    "def build_model(): \n",
    "    model = models.Sequential()\n",
    "    \n",
    "    model.add(layers.Dense(64, activation='sigmoid', input_shape=(64,)))\n",
    "    model.add(layers.Dense(32, activation='relu'))\n",
    "    model.add(layers.Dense(16, activation='relu'))\n",
    "    model.add(layers.Dense(10, activation='softmax'))\n",
    "    \n",
    "    model.compile(loss='categorical_crossentropy', optimizer=Adam(lr=0.001), metrics=['accuracy'])\n",
    "    \n",
    "    return model"
   ]
  },
  {
   "cell_type": "code",
   "execution_count": 7,
   "id": "af0837c8",
   "metadata": {},
   "outputs": [
    {
     "name": "stdout",
     "output_type": "stream",
     "text": [
      "Model: \"sequential\"\n",
      "_________________________________________________________________\n",
      " Layer (type)                Output Shape              Param #   \n",
      "=================================================================\n",
      " dense (Dense)               (None, 64)                4160      \n",
      "                                                                 \n",
      " dense_1 (Dense)             (None, 32)                2080      \n",
      "                                                                 \n",
      " dense_2 (Dense)             (None, 16)                528       \n",
      "                                                                 \n",
      " dense_3 (Dense)             (None, 10)                170       \n",
      "                                                                 \n",
      "=================================================================\n",
      "Total params: 6,938\n",
      "Trainable params: 6,938\n",
      "Non-trainable params: 0\n",
      "_________________________________________________________________\n"
     ]
    }
   ],
   "source": [
    "model = build_model() \n",
    "\n",
    "model.summary()"
   ]
  },
  {
   "cell_type": "code",
   "execution_count": 8,
   "id": "374e51de",
   "metadata": {},
   "outputs": [],
   "source": [
    "from keras.utils import to_categorical\n",
    "\n",
    "y_train_one_hot = to_categorical(y_train)\n",
    "y_test_one_hot = to_categorical(y_test)"
   ]
  },
  {
   "cell_type": "code",
   "execution_count": 9,
   "id": "c9b33985",
   "metadata": {},
   "outputs": [
    {
     "name": "stdout",
     "output_type": "stream",
     "text": [
      "Epoch 1/100\n",
      "18/18 [==============================] - 1s 15ms/step - loss: 2.2195 - accuracy: 0.1958 - val_loss: 2.1528 - val_accuracy: 0.2431\n",
      "Epoch 2/100\n",
      "18/18 [==============================] - 0s 4ms/step - loss: 1.9824 - accuracy: 0.3037 - val_loss: 1.9440 - val_accuracy: 0.2951\n",
      "Epoch 3/100\n",
      "18/18 [==============================] - 0s 4ms/step - loss: 1.7260 - accuracy: 0.4378 - val_loss: 1.6870 - val_accuracy: 0.4410\n",
      "Epoch 4/100\n",
      "18/18 [==============================] - 0s 4ms/step - loss: 1.4621 - accuracy: 0.5370 - val_loss: 1.4194 - val_accuracy: 0.6250\n",
      "Epoch 5/100\n",
      "18/18 [==============================] - 0s 4ms/step - loss: 1.1853 - accuracy: 0.7346 - val_loss: 1.1260 - val_accuracy: 0.7951\n",
      "Epoch 6/100\n",
      "18/18 [==============================] - 0s 4ms/step - loss: 0.8958 - accuracy: 0.8721 - val_loss: 0.8145 - val_accuracy: 0.9062\n",
      "Epoch 7/100\n",
      "18/18 [==============================] - 0s 3ms/step - loss: 0.6375 - accuracy: 0.9217 - val_loss: 0.5791 - val_accuracy: 0.9201\n",
      "Epoch 8/100\n",
      "18/18 [==============================] - 0s 5ms/step - loss: 0.4476 - accuracy: 0.9365 - val_loss: 0.4177 - val_accuracy: 0.9375\n",
      "Epoch 9/100\n",
      "18/18 [==============================] - 0s 4ms/step - loss: 0.3196 - accuracy: 0.9495 - val_loss: 0.3168 - val_accuracy: 0.9549\n",
      "Epoch 10/100\n",
      "18/18 [==============================] - 0s 4ms/step - loss: 0.2389 - accuracy: 0.9608 - val_loss: 0.2539 - val_accuracy: 0.9549\n",
      "Epoch 11/100\n",
      "18/18 [==============================] - 0s 4ms/step - loss: 0.1850 - accuracy: 0.9730 - val_loss: 0.2256 - val_accuracy: 0.9549\n",
      "Epoch 12/100\n",
      "18/18 [==============================] - 0s 3ms/step - loss: 0.1486 - accuracy: 0.9739 - val_loss: 0.1937 - val_accuracy: 0.9549\n",
      "Epoch 13/100\n",
      "18/18 [==============================] - 0s 5ms/step - loss: 0.1228 - accuracy: 0.9826 - val_loss: 0.1741 - val_accuracy: 0.9583\n",
      "Epoch 14/100\n",
      "18/18 [==============================] - 0s 4ms/step - loss: 0.1021 - accuracy: 0.9835 - val_loss: 0.1715 - val_accuracy: 0.9618\n",
      "Epoch 15/100\n",
      "18/18 [==============================] - 0s 3ms/step - loss: 0.0854 - accuracy: 0.9869 - val_loss: 0.1504 - val_accuracy: 0.9653\n",
      "Epoch 16/100\n",
      "18/18 [==============================] - 0s 3ms/step - loss: 0.0742 - accuracy: 0.9869 - val_loss: 0.1407 - val_accuracy: 0.9688\n",
      "Epoch 17/100\n",
      "18/18 [==============================] - 0s 5ms/step - loss: 0.0635 - accuracy: 0.9913 - val_loss: 0.1330 - val_accuracy: 0.9688\n",
      "Epoch 18/100\n",
      "18/18 [==============================] - 0s 4ms/step - loss: 0.0593 - accuracy: 0.9930 - val_loss: 0.1287 - val_accuracy: 0.9688\n",
      "Epoch 19/100\n",
      "18/18 [==============================] - 0s 4ms/step - loss: 0.0482 - accuracy: 0.9974 - val_loss: 0.1272 - val_accuracy: 0.9653\n",
      "Epoch 20/100\n",
      "18/18 [==============================] - 0s 3ms/step - loss: 0.0433 - accuracy: 0.9965 - val_loss: 0.1282 - val_accuracy: 0.9688\n",
      "Epoch 21/100\n",
      "18/18 [==============================] - 0s 4ms/step - loss: 0.0389 - accuracy: 0.9983 - val_loss: 0.1134 - val_accuracy: 0.9688\n",
      "Epoch 22/100\n",
      "18/18 [==============================] - 0s 4ms/step - loss: 0.0333 - accuracy: 0.9983 - val_loss: 0.1163 - val_accuracy: 0.9688\n",
      "Epoch 23/100\n",
      "18/18 [==============================] - 0s 4ms/step - loss: 0.0300 - accuracy: 0.9991 - val_loss: 0.1114 - val_accuracy: 0.9688\n",
      "Epoch 24/100\n",
      "18/18 [==============================] - 0s 3ms/step - loss: 0.0268 - accuracy: 0.9991 - val_loss: 0.1081 - val_accuracy: 0.9688\n",
      "Epoch 25/100\n",
      "18/18 [==============================] - 0s 3ms/step - loss: 0.0244 - accuracy: 0.9991 - val_loss: 0.1152 - val_accuracy: 0.9688\n",
      "Epoch 26/100\n",
      "18/18 [==============================] - 0s 4ms/step - loss: 0.0225 - accuracy: 0.9991 - val_loss: 0.1073 - val_accuracy: 0.9688\n",
      "Epoch 27/100\n",
      "18/18 [==============================] - 0s 4ms/step - loss: 0.0197 - accuracy: 1.0000 - val_loss: 0.1062 - val_accuracy: 0.9688\n",
      "Epoch 28/100\n",
      "18/18 [==============================] - 0s 4ms/step - loss: 0.0179 - accuracy: 0.9991 - val_loss: 0.1050 - val_accuracy: 0.9688\n",
      "Epoch 29/100\n",
      "18/18 [==============================] - 0s 3ms/step - loss: 0.0167 - accuracy: 1.0000 - val_loss: 0.1067 - val_accuracy: 0.9722\n",
      "Epoch 30/100\n",
      "18/18 [==============================] - 0s 4ms/step - loss: 0.0155 - accuracy: 0.9991 - val_loss: 0.1056 - val_accuracy: 0.9722\n",
      "Epoch 31/100\n",
      "18/18 [==============================] - 0s 4ms/step - loss: 0.0138 - accuracy: 1.0000 - val_loss: 0.1023 - val_accuracy: 0.9688\n",
      "Epoch 32/100\n",
      "18/18 [==============================] - 0s 5ms/step - loss: 0.0129 - accuracy: 1.0000 - val_loss: 0.1054 - val_accuracy: 0.9722\n",
      "Epoch 33/100\n",
      "18/18 [==============================] - 0s 4ms/step - loss: 0.0115 - accuracy: 1.0000 - val_loss: 0.1019 - val_accuracy: 0.9688\n",
      "Epoch 34/100\n",
      "18/18 [==============================] - 0s 4ms/step - loss: 0.0107 - accuracy: 1.0000 - val_loss: 0.1019 - val_accuracy: 0.9688\n",
      "Epoch 35/100\n",
      "18/18 [==============================] - 0s 3ms/step - loss: 0.0100 - accuracy: 1.0000 - val_loss: 0.1028 - val_accuracy: 0.9722\n",
      "Epoch 36/100\n",
      "18/18 [==============================] - 0s 4ms/step - loss: 0.0093 - accuracy: 1.0000 - val_loss: 0.1015 - val_accuracy: 0.9722\n",
      "Epoch 37/100\n",
      "18/18 [==============================] - 0s 3ms/step - loss: 0.0088 - accuracy: 1.0000 - val_loss: 0.1017 - val_accuracy: 0.9688\n",
      "Epoch 38/100\n",
      "18/18 [==============================] - 0s 4ms/step - loss: 0.0082 - accuracy: 1.0000 - val_loss: 0.1016 - val_accuracy: 0.9722\n",
      "Epoch 39/100\n",
      "18/18 [==============================] - 0s 3ms/step - loss: 0.0076 - accuracy: 1.0000 - val_loss: 0.1019 - val_accuracy: 0.9722\n",
      "Epoch 40/100\n",
      "18/18 [==============================] - 0s 4ms/step - loss: 0.0071 - accuracy: 1.0000 - val_loss: 0.1022 - val_accuracy: 0.9722\n",
      "Epoch 41/100\n",
      "18/18 [==============================] - 0s 4ms/step - loss: 0.0066 - accuracy: 1.0000 - val_loss: 0.1016 - val_accuracy: 0.9722\n",
      "Epoch 42/100\n",
      "18/18 [==============================] - 0s 3ms/step - loss: 0.0063 - accuracy: 1.0000 - val_loss: 0.1012 - val_accuracy: 0.9722\n",
      "Epoch 43/100\n",
      "18/18 [==============================] - 0s 4ms/step - loss: 0.0059 - accuracy: 1.0000 - val_loss: 0.1015 - val_accuracy: 0.9722\n",
      "Epoch 44/100\n",
      "18/18 [==============================] - 0s 3ms/step - loss: 0.0056 - accuracy: 1.0000 - val_loss: 0.1018 - val_accuracy: 0.9722\n",
      "Epoch 45/100\n",
      "18/18 [==============================] - 0s 3ms/step - loss: 0.0054 - accuracy: 1.0000 - val_loss: 0.1020 - val_accuracy: 0.9722\n",
      "Epoch 46/100\n",
      "18/18 [==============================] - 0s 4ms/step - loss: 0.0051 - accuracy: 1.0000 - val_loss: 0.1010 - val_accuracy: 0.9722\n",
      "Epoch 47/100\n",
      "18/18 [==============================] - 0s 3ms/step - loss: 0.0048 - accuracy: 1.0000 - val_loss: 0.1010 - val_accuracy: 0.9722\n",
      "Epoch 48/100\n",
      "18/18 [==============================] - 0s 3ms/step - loss: 0.0045 - accuracy: 1.0000 - val_loss: 0.1005 - val_accuracy: 0.9722\n",
      "Epoch 49/100\n",
      "18/18 [==============================] - 0s 3ms/step - loss: 0.0043 - accuracy: 1.0000 - val_loss: 0.1018 - val_accuracy: 0.9722\n",
      "Epoch 50/100\n",
      "18/18 [==============================] - 0s 3ms/step - loss: 0.0042 - accuracy: 1.0000 - val_loss: 0.1008 - val_accuracy: 0.9757\n",
      "Epoch 51/100\n",
      "18/18 [==============================] - 0s 3ms/step - loss: 0.0040 - accuracy: 1.0000 - val_loss: 0.1011 - val_accuracy: 0.9722\n",
      "Epoch 52/100\n",
      "18/18 [==============================] - 0s 4ms/step - loss: 0.0037 - accuracy: 1.0000 - val_loss: 0.1021 - val_accuracy: 0.9757\n",
      "Epoch 53/100\n",
      "18/18 [==============================] - 0s 3ms/step - loss: 0.0036 - accuracy: 1.0000 - val_loss: 0.1013 - val_accuracy: 0.9722\n",
      "Epoch 54/100\n",
      "18/18 [==============================] - 0s 3ms/step - loss: 0.0034 - accuracy: 1.0000 - val_loss: 0.1019 - val_accuracy: 0.9757\n",
      "Epoch 55/100\n",
      "18/18 [==============================] - 0s 3ms/step - loss: 0.0033 - accuracy: 1.0000 - val_loss: 0.1016 - val_accuracy: 0.9757\n",
      "Epoch 56/100\n",
      "18/18 [==============================] - 0s 3ms/step - loss: 0.0031 - accuracy: 1.0000 - val_loss: 0.1017 - val_accuracy: 0.9757\n",
      "Epoch 57/100\n",
      "18/18 [==============================] - 0s 3ms/step - loss: 0.0030 - accuracy: 1.0000 - val_loss: 0.1016 - val_accuracy: 0.9757\n",
      "Epoch 58/100\n",
      "18/18 [==============================] - 0s 4ms/step - loss: 0.0029 - accuracy: 1.0000 - val_loss: 0.1015 - val_accuracy: 0.9722\n",
      "Epoch 59/100\n",
      "18/18 [==============================] - 0s 4ms/step - loss: 0.0028 - accuracy: 1.0000 - val_loss: 0.1025 - val_accuracy: 0.9757\n",
      "Epoch 60/100\n",
      "18/18 [==============================] - 0s 4ms/step - loss: 0.0026 - accuracy: 1.0000 - val_loss: 0.1009 - val_accuracy: 0.9757\n",
      "Epoch 61/100\n",
      "18/18 [==============================] - 0s 4ms/step - loss: 0.0025 - accuracy: 1.0000 - val_loss: 0.1026 - val_accuracy: 0.9757\n",
      "Epoch 62/100\n",
      "18/18 [==============================] - 0s 3ms/step - loss: 0.0025 - accuracy: 1.0000 - val_loss: 0.1023 - val_accuracy: 0.9757\n",
      "Epoch 63/100\n",
      "18/18 [==============================] - 0s 3ms/step - loss: 0.0024 - accuracy: 1.0000 - val_loss: 0.1024 - val_accuracy: 0.9757\n",
      "Epoch 64/100\n",
      "18/18 [==============================] - 0s 3ms/step - loss: 0.0023 - accuracy: 1.0000 - val_loss: 0.1019 - val_accuracy: 0.9757\n",
      "Epoch 65/100\n",
      "18/18 [==============================] - 0s 3ms/step - loss: 0.0022 - accuracy: 1.0000 - val_loss: 0.1026 - val_accuracy: 0.9757\n",
      "Epoch 66/100\n",
      "18/18 [==============================] - 0s 3ms/step - loss: 0.0021 - accuracy: 1.0000 - val_loss: 0.1018 - val_accuracy: 0.9757\n",
      "Epoch 67/100\n",
      "18/18 [==============================] - 0s 3ms/step - loss: 0.0020 - accuracy: 1.0000 - val_loss: 0.1033 - val_accuracy: 0.9757\n",
      "Epoch 68/100\n",
      "18/18 [==============================] - 0s 3ms/step - loss: 0.0020 - accuracy: 1.0000 - val_loss: 0.1023 - val_accuracy: 0.9757\n",
      "Epoch 69/100\n",
      "18/18 [==============================] - 0s 3ms/step - loss: 0.0019 - accuracy: 1.0000 - val_loss: 0.1027 - val_accuracy: 0.9757\n",
      "Epoch 70/100\n",
      "18/18 [==============================] - 0s 3ms/step - loss: 0.0018 - accuracy: 1.0000 - val_loss: 0.1032 - val_accuracy: 0.9757\n",
      "Epoch 71/100\n",
      "18/18 [==============================] - 0s 3ms/step - loss: 0.0018 - accuracy: 1.0000 - val_loss: 0.1036 - val_accuracy: 0.9757\n",
      "Epoch 72/100\n",
      "18/18 [==============================] - 0s 3ms/step - loss: 0.0017 - accuracy: 1.0000 - val_loss: 0.1028 - val_accuracy: 0.9757\n",
      "Epoch 73/100\n",
      "18/18 [==============================] - 0s 3ms/step - loss: 0.0017 - accuracy: 1.0000 - val_loss: 0.1032 - val_accuracy: 0.9757\n",
      "Epoch 74/100\n",
      "18/18 [==============================] - 0s 3ms/step - loss: 0.0016 - accuracy: 1.0000 - val_loss: 0.1030 - val_accuracy: 0.9757\n",
      "Epoch 75/100\n",
      "18/18 [==============================] - 0s 3ms/step - loss: 0.0016 - accuracy: 1.0000 - val_loss: 0.1041 - val_accuracy: 0.9757\n",
      "Epoch 76/100\n",
      "18/18 [==============================] - 0s 3ms/step - loss: 0.0015 - accuracy: 1.0000 - val_loss: 0.1030 - val_accuracy: 0.9757\n",
      "Epoch 77/100\n",
      "18/18 [==============================] - 0s 5ms/step - loss: 0.0015 - accuracy: 1.0000 - val_loss: 0.1040 - val_accuracy: 0.9757\n",
      "Epoch 78/100\n",
      "18/18 [==============================] - 0s 3ms/step - loss: 0.0015 - accuracy: 1.0000 - val_loss: 0.1047 - val_accuracy: 0.9757\n",
      "Epoch 79/100\n",
      "18/18 [==============================] - 0s 3ms/step - loss: 0.0014 - accuracy: 1.0000 - val_loss: 0.1037 - val_accuracy: 0.9757\n",
      "Epoch 80/100\n",
      "18/18 [==============================] - 0s 4ms/step - loss: 0.0013 - accuracy: 1.0000 - val_loss: 0.1047 - val_accuracy: 0.9757\n",
      "Epoch 81/100\n",
      "18/18 [==============================] - 0s 3ms/step - loss: 0.0013 - accuracy: 1.0000 - val_loss: 0.1044 - val_accuracy: 0.9757\n",
      "Epoch 82/100\n",
      "18/18 [==============================] - 0s 3ms/step - loss: 0.0013 - accuracy: 1.0000 - val_loss: 0.1040 - val_accuracy: 0.9757\n",
      "Epoch 83/100\n",
      "18/18 [==============================] - 0s 4ms/step - loss: 0.0012 - accuracy: 1.0000 - val_loss: 0.1041 - val_accuracy: 0.9757\n",
      "Epoch 84/100\n",
      "18/18 [==============================] - 0s 4ms/step - loss: 0.0012 - accuracy: 1.0000 - val_loss: 0.1048 - val_accuracy: 0.9757\n",
      "Epoch 85/100\n",
      "18/18 [==============================] - 0s 4ms/step - loss: 0.0012 - accuracy: 1.0000 - val_loss: 0.1046 - val_accuracy: 0.9757\n",
      "Epoch 86/100\n",
      "18/18 [==============================] - 0s 4ms/step - loss: 0.0011 - accuracy: 1.0000 - val_loss: 0.1055 - val_accuracy: 0.9757\n",
      "Epoch 87/100\n",
      "18/18 [==============================] - 0s 3ms/step - loss: 0.0011 - accuracy: 1.0000 - val_loss: 0.1048 - val_accuracy: 0.9757\n",
      "Epoch 88/100\n",
      "18/18 [==============================] - 0s 4ms/step - loss: 0.0011 - accuracy: 1.0000 - val_loss: 0.1056 - val_accuracy: 0.9757\n",
      "Epoch 89/100\n",
      "18/18 [==============================] - 0s 3ms/step - loss: 0.0010 - accuracy: 1.0000 - val_loss: 0.1050 - val_accuracy: 0.9757\n",
      "Epoch 90/100\n",
      "18/18 [==============================] - 0s 4ms/step - loss: 0.0010 - accuracy: 1.0000 - val_loss: 0.1053 - val_accuracy: 0.9757\n",
      "Epoch 91/100\n",
      "18/18 [==============================] - 0s 5ms/step - loss: 9.8411e-04 - accuracy: 1.0000 - val_loss: 0.1055 - val_accuracy: 0.9757\n",
      "Epoch 92/100\n",
      "18/18 [==============================] - 0s 5ms/step - loss: 9.6307e-04 - accuracy: 1.0000 - val_loss: 0.1056 - val_accuracy: 0.9757\n",
      "Epoch 93/100\n",
      "18/18 [==============================] - 0s 5ms/step - loss: 9.3563e-04 - accuracy: 1.0000 - val_loss: 0.1056 - val_accuracy: 0.9757\n",
      "Epoch 94/100\n",
      "18/18 [==============================] - 0s 5ms/step - loss: 9.1464e-04 - accuracy: 1.0000 - val_loss: 0.1069 - val_accuracy: 0.9757\n",
      "Epoch 95/100\n",
      "18/18 [==============================] - 0s 4ms/step - loss: 8.9393e-04 - accuracy: 1.0000 - val_loss: 0.1060 - val_accuracy: 0.9757\n",
      "Epoch 96/100\n",
      "18/18 [==============================] - 0s 5ms/step - loss: 8.6568e-04 - accuracy: 1.0000 - val_loss: 0.1063 - val_accuracy: 0.9757\n",
      "Epoch 97/100\n",
      "18/18 [==============================] - 0s 4ms/step - loss: 8.4234e-04 - accuracy: 1.0000 - val_loss: 0.1064 - val_accuracy: 0.9757\n",
      "Epoch 98/100\n",
      "18/18 [==============================] - 0s 3ms/step - loss: 8.2291e-04 - accuracy: 1.0000 - val_loss: 0.1066 - val_accuracy: 0.9757\n",
      "Epoch 99/100\n",
      "18/18 [==============================] - 0s 3ms/step - loss: 7.9953e-04 - accuracy: 1.0000 - val_loss: 0.1067 - val_accuracy: 0.9757\n",
      "Epoch 100/100\n",
      "18/18 [==============================] - 0s 4ms/step - loss: 7.8363e-04 - accuracy: 1.0000 - val_loss: 0.1069 - val_accuracy: 0.9757\n",
      "12/12 [==============================] - 0s 1ms/step\n"
     ]
    }
   ],
   "source": [
    "model_history = model.fit(X_train, y_train_one_hot, epochs=100, batch_size=64, validation_split=0.2)\n",
    "y_pred = model.predict(X_test)\n",
    "\n",
    "y_test_class = np.argmax(y_test_one_hot,axis=1)\n",
    "y_pred_class = np.argmax(y_pred,axis=1)"
   ]
  },
  {
   "cell_type": "code",
   "execution_count": 10,
   "id": "4261eba1",
   "metadata": {},
   "outputs": [
    {
     "data": {
      "image/png": "[encoded data removed]",
      "text/plain": [
       "<Figure size 640x480 with 1 Axes>"
      ]
     },
     "metadata": {},
     "output_type": "display_data"
    }
   ],
   "source": [
    "import matplotlib.pyplot as plt\n",
    "import seaborn as sns\n",
    "\n",
    "loss =model_history.history['loss']\n",
    "val_loss =model_history.history['val_loss']\n",
    "epochs = range(1, len(loss) + 1)\n",
    "plt.plot(epochs, loss, 'y', label='Training loss')\n",
    "plt.plot(epochs, val_loss, 'r', label='Validation loss')\n",
    "plt.title('Training and validation loss')\n",
    "plt.xlabel('Epochs')\n",
    "plt.ylabel('Loss')\n",
    "plt.legend()\n",
    "plt.show()"
   ]
  },
  {
   "cell_type": "code",
   "execution_count": 11,
   "id": "af239d91",
   "metadata": {},
   "outputs": [
    {
     "data": {
      "image/png": "[encoded data removed]",
      "text/plain": [
       "<Figure size 640x480 with 1 Axes>"
      ]
     },
     "metadata": {},
     "output_type": "display_data"
    }
   ],
   "source": [
    "acc =model_history.history['accuracy']\n",
    "val_acc =model_history.history['val_accuracy']\n",
    "plt.plot(epochs, acc, 'y', label='Training acc')\n",
    "plt.plot(epochs, val_acc, 'r', label='Validation acc')\n",
    "plt.title('Training and validation accuracy')\n",
    "plt.xlabel('Epochs')\n",
    "plt.ylabel('Accuracy')\n",
    "plt.legend()\n",
    "plt.show()"
   ]
  },
  {
   "cell_type": "code",
   "execution_count": null,
   "id": "85014f8e",
   "metadata": {},
   "outputs": [],
   "source": []
  }
 ],
 "metadata": {
  "kernelspec": {
   "display_name": "Python 3 (ipykernel)",
   "language": "python",
   "name": "python3"
  },
  "language_info": {
   "codemirror_mode": {
    "name": "ipython",
    "version": 3
   },
   "file_extension": ".py",
   "mimetype": "text/x-python",
   "name": "python",
   "nbconvert_exporter": "python",
   "pygments_lexer": "ipython3",
   "version": "3.9.13"
  }
 },
 "nbformat": 4,
 "nbformat_minor": 5
}
